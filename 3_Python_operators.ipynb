{
  "nbformat": 4,
  "nbformat_minor": 0,
  "metadata": {
    "colab": {
      "provenance": [],
      "authorship_tag": "ABX9TyPI6yDpipiDuq5JTkCZUbLO",
      "include_colab_link": true
    },
    "kernelspec": {
      "name": "python3",
      "display_name": "Python 3"
    },
    "language_info": {
      "name": "python"
    }
  },
  "cells": [
    {
      "cell_type": "markdown",
      "metadata": {
        "id": "view-in-github",
        "colab_type": "text"
      },
      "source": [
        "<a href=\"https://colab.research.google.com/github/jyotisatihal/Python_for_ML/blob/main/3_Python_operators.ipynb\" target=\"_parent\"><img src=\"https://colab.research.google.com/assets/colab-badge.svg\" alt=\"Open In Colab\"/></a>"
      ]
    },
    {
      "cell_type": "markdown",
      "source": [
        "**Arithmetic operators**"
      ],
      "metadata": {
        "id": "MKjoQ1ZqAsKr"
      }
    },
    {
      "cell_type": "code",
      "execution_count": null,
      "metadata": {
        "colab": {
          "base_uri": "https://localhost:8080/"
        },
        "id": "Cu5_uPl4Ajk4",
        "outputId": "13e06b47-1e83-4327-9dd1-ecda56e7c20a"
      },
      "outputs": [
        {
          "output_type": "stream",
          "name": "stdout",
          "text": [
            "16\n",
            "8\n",
            "48\n",
            "3.0\n",
            "3\n",
            "0\n",
            "20736\n"
          ]
        }
      ],
      "source": [
        "x=12\n",
        "y=4\n",
        "sum=x+y\n",
        "diff=x-y\n",
        "prod=x*y\n",
        "div=x/y#gives float value\n",
        "fdiv=x//y#gives integer value\n",
        "mod=x%y\n",
        "power=x**y\n",
        "print(sum)\n",
        "print(diff)\n",
        "print(prod)\n",
        "print(div)\n",
        "print(fdiv)\n",
        "print(mod)\n",
        "print(power)"
      ]
    },
    {
      "cell_type": "code",
      "source": [
        "age=int(input(\"enter the age\"))\n",
        "print(age>18 and age<50)\n",
        "print(age>18 or age<21)\n",
        "print(age!=19)\n",
        "print(age>=20)\n",
        "print(age<=25)"
      ],
      "metadata": {
        "colab": {
          "base_uri": "https://localhost:8080/"
        },
        "id": "8P4W-OYUBk06",
        "outputId": "5e0dd64e-1f0f-40f0-a866-0455032d513f"
      },
      "execution_count": null,
      "outputs": [
        {
          "output_type": "stream",
          "name": "stdout",
          "text": [
            "enter the age30\n",
            "True\n",
            "True\n",
            "True\n",
            "True\n",
            "False\n"
          ]
        }
      ]
    },
    {
      "cell_type": "markdown",
      "source": [
        "Bitwise operators"
      ],
      "metadata": {
        "id": "oVekxb5yhMwl"
      }
    },
    {
      "cell_type": "code",
      "source": [
        "print(8 &12)#and\n",
        "print(8|12)#or\n",
        "print(0xF & 0XE)\n",
        "print(0XF | 0XE)\n",
        "print(8^12)#exor\n",
        "print(0xF ^ 0xE)"
      ],
      "metadata": {
        "id": "fwYTTbivEy82",
        "colab": {
          "base_uri": "https://localhost:8080/"
        },
        "outputId": "b9b3a008-8f1c-4bb8-ce94-2d17749384b9"
      },
      "execution_count": null,
      "outputs": [
        {
          "output_type": "stream",
          "name": "stdout",
          "text": [
            "8\n",
            "12\n",
            "14\n",
            "15\n",
            "4\n",
            "1\n"
          ]
        }
      ]
    },
    {
      "cell_type": "code",
      "source": [
        "print(8>>1)#rs\n",
        "print(8>>2)\n",
        "print(8>>3)\n",
        "print(8>>4)\n",
        "print(8>>5)\n",
        "\n",
        "print(8<<1)#ls\n",
        "print(8<<2)\n",
        "print(8<<3)\n",
        "print(8<<4)"
      ],
      "metadata": {
        "colab": {
          "base_uri": "https://localhost:8080/"
        },
        "id": "MVJKYWxShSzx",
        "outputId": "2ebfa298-b236-4e39-f879-56388a65da51"
      },
      "execution_count": null,
      "outputs": [
        {
          "output_type": "stream",
          "name": "stdout",
          "text": [
            "4\n",
            "2\n",
            "1\n",
            "0\n",
            "0\n",
            "16\n",
            "32\n",
            "64\n",
            "128\n"
          ]
        }
      ]
    },
    {
      "cell_type": "code",
      "source": [
        "#assignment operators\n",
        "\n",
        "a=5\n",
        "print(a)\n",
        "a+=2\n",
        "print(a)\n",
        "a-=3\n",
        "print(a)\n",
        "a*=2\n",
        "print(a)\n",
        "a/=4\n",
        "print(a)\n",
        "a%=2\n",
        "print(a)\n",
        "a=10\n",
        "print(a)\n",
        "a//=3\n",
        "print(a)\n",
        "a**=2\n",
        "print(a)\n",
        "a&=1\n",
        "print(a)\n",
        "a|=4\n",
        "print(a)\n",
        "a>>=1\n",
        "print(a)\n",
        "a<<=1\n",
        "print(a)"
      ],
      "metadata": {
        "colab": {
          "base_uri": "https://localhost:8080/"
        },
        "id": "xY7pl7J_kl6R",
        "outputId": "cfdcfef9-31b7-4961-bd58-fe6088e73125"
      },
      "execution_count": null,
      "outputs": [
        {
          "output_type": "stream",
          "name": "stdout",
          "text": [
            "5\n",
            "7\n",
            "4\n",
            "8\n",
            "2.0\n",
            "0.0\n",
            "10\n",
            "3\n",
            "9\n",
            "1\n",
            "5\n",
            "2\n",
            "4\n"
          ]
        }
      ]
    },
    {
      "cell_type": "code",
      "source": [
        "x={\"hubli\",\"blore\"}\n",
        "y={\"hubli\",\"blore\"}\n",
        "z=x\n",
        "z=y\n",
        "print(z is not x)\n",
        "print(y is x)\n",
        "print(y is z)\n",
        "print(\"hubli\" in x)"
      ],
      "metadata": {
        "id": "8iMmmRcboR07",
        "colab": {
          "base_uri": "https://localhost:8080/"
        },
        "outputId": "17e5b0ab-6e98-40bf-d7c1-c668d5f92fe0"
      },
      "execution_count": null,
      "outputs": [
        {
          "output_type": "stream",
          "name": "stdout",
          "text": [
            "True\n",
            "False\n",
            "True\n",
            "True\n"
          ]
        }
      ]
    },
    {
      "cell_type": "markdown",
      "source": [
        "WHILE LOOP"
      ],
      "metadata": {
        "id": "dpt43amY35Bg"
      }
    },
    {
      "cell_type": "code",
      "source": [
        "num=int(input(\"enter num\"))\n",
        "while num<=9:\n",
        " print(\"num is single digit\")\n",
        " break\n",
        "while num>9 and num<=99:\n",
        " print(\"num is double digit\")\n",
        " break\n",
        "else:\n",
        " print(\"num has more than two digits\")"
      ],
      "metadata": {
        "id": "Bxu_LlP1vCuD",
        "colab": {
          "base_uri": "https://localhost:8080/"
        },
        "outputId": "d198cabd-23d2-4832-8373-aa563b5a1153"
      },
      "execution_count": null,
      "outputs": [
        {
          "output_type": "stream",
          "name": "stdout",
          "text": [
            "enter num88\n",
            "num is double digit\n"
          ]
        }
      ]
    },
    {
      "cell_type": "markdown",
      "source": [
        "**FOR LOOP**"
      ],
      "metadata": {
        "id": "dptNgLRc39m0"
      }
    },
    {
      "cell_type": "code",
      "source": [
        "for x in range(1,20,3):\n",
        "  print(x)"
      ],
      "metadata": {
        "colab": {
          "base_uri": "https://localhost:8080/"
        },
        "id": "YDbtm11r2E0h",
        "outputId": "7e8cde99-6393-4220-a5dc-c9d7faac8179"
      },
      "execution_count": null,
      "outputs": [
        {
          "output_type": "stream",
          "name": "stdout",
          "text": [
            "1\n",
            "4\n",
            "7\n",
            "10\n",
            "13\n",
            "16\n",
            "19\n"
          ]
        }
      ]
    },
    {
      "cell_type": "code",
      "source": [
        "for x in range(5,9):\n",
        "  print(\"single digit num\")\n",
        "for x in range(0,99,10):\n",
        "  print(\"double digit num\")"
      ],
      "metadata": {
        "colab": {
          "base_uri": "https://localhost:8080/"
        },
        "id": "T_-MsKzF4GFy",
        "outputId": "b68562a0-2106-4a7e-a3da-d3516ac0a9c9"
      },
      "execution_count": null,
      "outputs": [
        {
          "output_type": "stream",
          "name": "stdout",
          "text": [
            "single digit num\n",
            "single digit num\n",
            "single digit num\n",
            "single digit num\n",
            "double digit num\n",
            "double digit num\n",
            "double digit num\n",
            "double digit num\n",
            "double digit num\n",
            "double digit num\n",
            "double digit num\n",
            "double digit num\n",
            "double digit num\n",
            "double digit num\n"
          ]
        }
      ]
    },
    {
      "cell_type": "code",
      "source": [
        "places=[\"hubli\",\"haveri\",\"goa\",\"blore\"]\n",
        "for x in places:\n",
        "  print(x)\n",
        "  if x ==\"goa\":\n",
        "    print(\"found\")\n",
        "    break"
      ],
      "metadata": {
        "colab": {
          "base_uri": "https://localhost:8080/"
        },
        "id": "2PGIeVWY4xDc",
        "outputId": "811c9417-00bb-40ac-838d-e05bad973405"
      },
      "execution_count": null,
      "outputs": [
        {
          "output_type": "stream",
          "name": "stdout",
          "text": [
            "hubli\n",
            "haveri\n",
            "goa\n",
            "found\n"
          ]
        }
      ]
    }
  ]
}