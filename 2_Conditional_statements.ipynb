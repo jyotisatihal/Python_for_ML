{
  "nbformat": 4,
  "nbformat_minor": 0,
  "metadata": {
    "colab": {
      "provenance": [],
      "authorship_tag": "ABX9TyMlNX5Lz7luMS6quziVUTIR",
      "include_colab_link": true
    },
    "kernelspec": {
      "name": "python3",
      "display_name": "Python 3"
    },
    "language_info": {
      "name": "python"
    }
  },
  "cells": [
    {
      "cell_type": "markdown",
      "metadata": {
        "id": "view-in-github",
        "colab_type": "text"
      },
      "source": [
        "<a href=\"https://colab.research.google.com/github/jyotisatihal/Python_for_ML/blob/main/2_Conditional_statements.ipynb\" target=\"_parent\"><img src=\"https://colab.research.google.com/assets/colab-badge.svg\" alt=\"Open In Colab\"/></a>"
      ]
    },
    {
      "cell_type": "markdown",
      "source": [
        "If-else"
      ],
      "metadata": {
        "id": "NorWXJalEx3t"
      }
    },
    {
      "cell_type": "code",
      "execution_count": null,
      "metadata": {
        "colab": {
          "base_uri": "https://localhost:8080/"
        },
        "id": "sM42oC7vEn78",
        "outputId": "a64d3f33-b96a-4b4c-b5c4-751708f9a43f"
      },
      "outputs": [
        {
          "output_type": "stream",
          "name": "stdout",
          "text": [
            "enter the value of a5\n",
            "enter the value of b5\n",
            "5\n",
            "5\n",
            "the values are equal\n"
          ]
        }
      ],
      "source": [
        "a=input(\"enter the value of a\")\n",
        "b=input(\"enter the value of b\")\n",
        "print(a)\n",
        "print(b)\n",
        "if a>b:\n",
        " print(\"the value of a is greater than b\")\n",
        "if a==b:\n",
        "  print(\"the values are equal\")\n",
        "\n",
        "else:\n",
        " print(a<b)"
      ]
    },
    {
      "cell_type": "markdown",
      "source": [
        "Elif"
      ],
      "metadata": {
        "id": "bfD-HeRoFFe1"
      }
    },
    {
      "cell_type": "code",
      "source": [
        "ball1_colour=\"green\"\n",
        "ball2_colour=\"red\"\n",
        "ball3_colour=\"pink\"\n",
        "ball4_colour=\"black\"\n",
        "\n",
        "pick_ball=input(\"pick a ball\")\n",
        "if pick_ball==ball1_colour:\n",
        "  print(\"green\")\n",
        "elif pick_ball==ball2_colour:\n",
        "  print(\"red\")\n",
        "elif pick_ball==ball3_colour:\n",
        "  print(\"pink\")\n",
        "else:\n",
        "  print(\"black\")\n"
      ],
      "metadata": {
        "colab": {
          "base_uri": "https://localhost:8080/"
        },
        "id": "insNxZhOE1VH",
        "outputId": "4a38e703-2281-4cb2-a314-caddf17c0b35"
      },
      "execution_count": null,
      "outputs": [
        {
          "output_type": "stream",
          "name": "stdout",
          "text": [
            "pick a ballpink\n",
            "pink\n"
          ]
        }
      ]
    },
    {
      "cell_type": "code",
      "source": [],
      "metadata": {
        "id": "RO1T27HAFN-p"
      },
      "execution_count": null,
      "outputs": []
    }
  ]
}