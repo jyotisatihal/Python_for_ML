{
  "nbformat": 4,
  "nbformat_minor": 0,
  "metadata": {
    "colab": {
      "provenance": [],
      "authorship_tag": "ABX9TyMIwiX7sQF5RFr2L86Krv2H",
      "include_colab_link": true
    },
    "kernelspec": {
      "name": "python3",
      "display_name": "Python 3"
    },
    "language_info": {
      "name": "python"
    }
  },
  "cells": [
    {
      "cell_type": "markdown",
      "metadata": {
        "id": "view-in-github",
        "colab_type": "text"
      },
      "source": [
        "<a href=\"https://colab.research.google.com/github/jyotisatihal/Python_for_ML/blob/main/1_Variable_declaration.ipynb\" target=\"_parent\"><img src=\"https://colab.research.google.com/assets/colab-badge.svg\" alt=\"Open In Colab\"/></a>"
      ]
    },
    {
      "cell_type": "markdown",
      "source": [
        "my first program"
      ],
      "metadata": {
        "id": "nzJA4zxe_uxr"
      }
    },
    {
      "cell_type": "code",
      "source": [
        "print(\"I'm Jyoti\")"
      ],
      "metadata": {
        "colab": {
          "base_uri": "https://localhost:8080/"
        },
        "id": "tIDWcYes_1FM",
        "outputId": "9e504251-aec6-4d4e-bd5a-30c04602ab89"
      },
      "execution_count": null,
      "outputs": [
        {
          "output_type": "stream",
          "name": "stdout",
          "text": [
            "I'm Jyoti\n"
          ]
        }
      ]
    },
    {
      "cell_type": "code",
      "source": [
        "a+b"
      ],
      "metadata": {
        "id": "WMrHM3snAC1s"
      },
      "execution_count": null,
      "outputs": []
    },
    {
      "cell_type": "markdown",
      "source": [
        "**Variable declaration in phyton**"
      ],
      "metadata": {
        "id": "Y9lXXCU6AYyt"
      }
    },
    {
      "cell_type": "markdown",
      "source": [
        "Addition"
      ],
      "metadata": {
        "id": "AKBNx1lT7M46"
      }
    },
    {
      "cell_type": "code",
      "source": [
        "a=5\n",
        "b=9\n",
        "sum=a+b\n",
        "print(sum)\n",
        "print(\"sum\")"
      ],
      "metadata": {
        "colab": {
          "base_uri": "https://localhost:8080/"
        },
        "id": "pRC9KKCvAlm-",
        "outputId": "888dfd38-4f05-493f-9a9a-b2d24143b674"
      },
      "execution_count": null,
      "outputs": [
        {
          "output_type": "stream",
          "name": "stdout",
          "text": [
            "14\n",
            "sum\n"
          ]
        }
      ]
    },
    {
      "cell_type": "markdown",
      "source": [
        "Substraction"
      ],
      "metadata": {
        "id": "leWOE1b47QOH"
      }
    },
    {
      "cell_type": "code",
      "source": [
        "a=10\n",
        "b=5\n",
        "sub=a-b\n",
        "print(sub)"
      ],
      "metadata": {
        "colab": {
          "base_uri": "https://localhost:8080/"
        },
        "id": "eAnJ37rQAtbG",
        "outputId": "68e5b035-08f4-4da9-de53-cd261729ee43"
      },
      "execution_count": null,
      "outputs": [
        {
          "output_type": "stream",
          "name": "stdout",
          "text": [
            "5\n"
          ]
        }
      ]
    },
    {
      "cell_type": "markdown",
      "source": [
        "Multiplication"
      ],
      "metadata": {
        "id": "cv0kLrjQ7W_o"
      }
    },
    {
      "cell_type": "code",
      "source": [
        "a=2\n",
        "b=4\n",
        "mul=a*b\n",
        "print(mul)"
      ],
      "metadata": {
        "colab": {
          "base_uri": "https://localhost:8080/"
        },
        "id": "PMf1k4JdCN6I",
        "outputId": "e46467a8-c83f-43ce-a9eb-525b833e8500"
      },
      "execution_count": null,
      "outputs": [
        {
          "output_type": "stream",
          "name": "stdout",
          "text": [
            "8\n"
          ]
        }
      ]
    },
    {
      "cell_type": "markdown",
      "source": [
        "Division"
      ],
      "metadata": {
        "id": "gJLSAJxl7amc"
      }
    },
    {
      "cell_type": "code",
      "source": [
        "a=12\n",
        "b=6\n",
        "div=a/b\n",
        "print(div)"
      ],
      "metadata": {
        "colab": {
          "base_uri": "https://localhost:8080/"
        },
        "id": "NX2zxkkkCUCw",
        "outputId": "399b3bac-f27c-4cc0-bc7b-fa88f97edd0a"
      },
      "execution_count": null,
      "outputs": [
        {
          "output_type": "stream",
          "name": "stdout",
          "text": [
            "2.0\n"
          ]
        }
      ]
    },
    {
      "cell_type": "markdown",
      "source": [
        "Square"
      ],
      "metadata": {
        "id": "gCKDwH_27f36"
      }
    },
    {
      "cell_type": "code",
      "source": [
        "a=4\n",
        "square=(a*a)\n",
        "print(square)"
      ],
      "metadata": {
        "colab": {
          "base_uri": "https://localhost:8080/"
        },
        "id": "EHDwt04jCdTS",
        "outputId": "a8133445-fda0-4de1-9e1d-538f21959885"
      },
      "execution_count": null,
      "outputs": [
        {
          "output_type": "stream",
          "name": "stdout",
          "text": [
            "16\n"
          ]
        }
      ]
    },
    {
      "cell_type": "markdown",
      "source": [
        "Square root"
      ],
      "metadata": {
        "id": "Z7nJxM1H7jsR"
      }
    },
    {
      "cell_type": "code",
      "source": [
        "import math\n",
        "a=16\n",
        "print(math.sqrt(a))\n"
      ],
      "metadata": {
        "colab": {
          "base_uri": "https://localhost:8080/"
        },
        "id": "NTWzT3-fCmNG",
        "outputId": "729220b2-c697-4867-f72f-6c15d4187d13"
      },
      "execution_count": null,
      "outputs": [
        {
          "output_type": "stream",
          "name": "stdout",
          "text": [
            "4.0\n"
          ]
        }
      ]
    },
    {
      "cell_type": "markdown",
      "source": [
        "# **Data Types**"
      ],
      "metadata": {
        "id": "YbXW0uZRFaiP"
      }
    },
    {
      "cell_type": "markdown",
      "source": [
        "**String**"
      ],
      "metadata": {
        "id": "c9wB8kyB8VHS"
      }
    },
    {
      "cell_type": "code",
      "source": [
        "name=\"jyoti\"\n",
        "print(type(name))"
      ],
      "metadata": {
        "colab": {
          "base_uri": "https://localhost:8080/"
        },
        "id": "hFK4EL9jFgTp",
        "outputId": "c2e182ed-4b60-4901-90b6-07934071c0d9"
      },
      "execution_count": null,
      "outputs": [
        {
          "output_type": "stream",
          "name": "stdout",
          "text": [
            "<class 'str'>\n"
          ]
        }
      ]
    },
    {
      "cell_type": "code",
      "source": [
        "name=\"jyoti & 7\"\n",
        "print(type(name))"
      ],
      "metadata": {
        "colab": {
          "base_uri": "https://localhost:8080/"
        },
        "id": "ybXw0rdzGS0V",
        "outputId": "4a816b34-1fca-4cc1-aaa9-7d825d8e7751"
      },
      "execution_count": null,
      "outputs": [
        {
          "output_type": "stream",
          "name": "stdout",
          "text": [
            "<class 'str'>\n"
          ]
        }
      ]
    },
    {
      "cell_type": "markdown",
      "source": [
        "**Numeric**"
      ],
      "metadata": {
        "id": "BZAGn9YZIKsL"
      }
    },
    {
      "cell_type": "code",
      "source": [
        "num1=69\n",
        "num2=33.3\n",
        "num3=4j\n",
        "num4=-11\n",
        "print(type(num1))\n",
        "print(type(num2))\n",
        "print(type(num3))\n",
        "print(type(num4))"
      ],
      "metadata": {
        "colab": {
          "base_uri": "https://localhost:8080/"
        },
        "id": "uvJc77IkGY-N",
        "outputId": "73991186-b95a-45a4-c9d9-c97117d280e4"
      },
      "execution_count": null,
      "outputs": [
        {
          "output_type": "stream",
          "name": "stdout",
          "text": [
            "<class 'int'>\n",
            "<class 'float'>\n",
            "<class 'complex'>\n",
            "<class 'int'>\n"
          ]
        }
      ]
    },
    {
      "cell_type": "markdown",
      "source": [
        "## ***Sequence***\n",
        "\n",
        "\n",
        "-lists\n",
        "-tuples\n",
        "-range"
      ],
      "metadata": {
        "id": "RSBkFOMXIdwV"
      }
    },
    {
      "cell_type": "markdown",
      "source": [
        "**List**"
      ],
      "metadata": {
        "id": "gIsaFiRz9HoI"
      }
    },
    {
      "cell_type": "code",
      "source": [
        "lis=['jyo','123','33.33']\n",
        "type(lis)"
      ],
      "metadata": {
        "colab": {
          "base_uri": "https://localhost:8080/"
        },
        "id": "VHqpEorSIcIX",
        "outputId": "37a1e4e1-891e-4d54-813b-b7d4263dd736"
      },
      "execution_count": null,
      "outputs": [
        {
          "output_type": "execute_result",
          "data": {
            "text/plain": [
              "list"
            ]
          },
          "metadata": {},
          "execution_count": 25
        }
      ]
    },
    {
      "cell_type": "code",
      "source": [
        "print(lis)"
      ],
      "metadata": {
        "colab": {
          "base_uri": "https://localhost:8080/"
        },
        "id": "erys9QIsJacN",
        "outputId": "0c36364b-0f5c-4c49-e856-656f19357260"
      },
      "execution_count": null,
      "outputs": [
        {
          "output_type": "stream",
          "name": "stdout",
          "text": [
            "['jyo', '123', '33.33']\n"
          ]
        }
      ]
    },
    {
      "cell_type": "code",
      "source": [
        "lis=['aa','bb','cc','dd']\n",
        "lis[0]"
      ],
      "metadata": {
        "colab": {
          "base_uri": "https://localhost:8080/",
          "height": 36
        },
        "id": "6C9TI4SHJcgj",
        "outputId": "5eef673b-41ee-4104-c187-c51d2d734be5"
      },
      "execution_count": null,
      "outputs": [
        {
          "output_type": "execute_result",
          "data": {
            "text/plain": [
              "'aa'"
            ],
            "application/vnd.google.colaboratory.intrinsic+json": {
              "type": "string"
            }
          },
          "metadata": {},
          "execution_count": 27
        }
      ]
    },
    {
      "cell_type": "code",
      "source": [
        "lis.sort()\n",
        "lis"
      ],
      "metadata": {
        "colab": {
          "base_uri": "https://localhost:8080/"
        },
        "id": "oCxqicXNMGNT",
        "outputId": "9e3861a2-7e8a-47cb-c1f4-f6b52d926b46"
      },
      "execution_count": null,
      "outputs": [
        {
          "output_type": "execute_result",
          "data": {
            "text/plain": [
              "['aa', 'bb', 'cc', 'dd']"
            ]
          },
          "metadata": {},
          "execution_count": 29
        }
      ]
    },
    {
      "cell_type": "markdown",
      "source": [
        "***TUPLES***"
      ],
      "metadata": {
        "id": "NFWZfbU1GTTa"
      }
    },
    {
      "cell_type": "code",
      "source": [
        "tuple1=(\"hubli\",\"belgaum\",\"hubli\")\n",
        "print(type(tuple1))\n",
        "tuple2=(\"hubli\",)\n",
        "print(type(tuple2))\n",
        "tuple3=(1,2,3,4,5)\n",
        "print(type(tuple3))\n",
        "tuple4=(\"asdf\",\"123\",1,2,3)\n",
        "print(type(tuple4))\n",
        "tuple5=(1,2,3,4,5)\n",
        "print(type(tuple5))"
      ],
      "metadata": {
        "id": "O4jPt08oMIj-",
        "colab": {
          "base_uri": "https://localhost:8080/"
        },
        "outputId": "9d8d6a62-9e2a-438b-ac66-2dd14a48ebea"
      },
      "execution_count": null,
      "outputs": [
        {
          "output_type": "stream",
          "name": "stdout",
          "text": [
            "<class 'tuple'>\n",
            "<class 'tuple'>\n",
            "<class 'tuple'>\n",
            "<class 'tuple'>\n",
            "<class 'tuple'>\n"
          ]
        }
      ]
    },
    {
      "cell_type": "code",
      "source": [
        "print(tuple1[0]) #positiveindexing\n",
        "                #starts from0\n",
        "print(tuple1[1])\n",
        "print(tuple1[2])\n",
        "\n",
        "print(tuple1[-1])#-ve indexing starts from last element"
      ],
      "metadata": {
        "colab": {
          "base_uri": "https://localhost:8080/"
        },
        "id": "ETNR8oFbGnQ1",
        "outputId": "7e37fc6d-34ad-4e30-c37a-da0f9f2edfc2"
      },
      "execution_count": null,
      "outputs": [
        {
          "output_type": "stream",
          "name": "stdout",
          "text": [
            "hubli\n",
            "belgaum\n",
            "hubli\n",
            "hubli\n"
          ]
        }
      ]
    },
    {
      "cell_type": "code",
      "source": [
        "tuple6=tuple1+tuple1\n",
        "print(tuple6)\n",
        "tuple7=tuple6*2\n",
        "print(tuple7)"
      ],
      "metadata": {
        "colab": {
          "base_uri": "https://localhost:8080/"
        },
        "id": "syw5ykAjJIhd",
        "outputId": "8e027d84-24ef-4522-f750-edbd8b3d4086"
      },
      "execution_count": null,
      "outputs": [
        {
          "output_type": "stream",
          "name": "stdout",
          "text": [
            "('hubli', 'belgaum', 'hubli', 'hubli', 'belgaum', 'hubli')\n",
            "('hubli', 'belgaum', 'hubli', 'hubli', 'belgaum', 'hubli', 'hubli', 'belgaum', 'hubli', 'hubli', 'belgaum', 'hubli')\n"
          ]
        }
      ]
    },
    {
      "cell_type": "code",
      "source": [
        "y=tuple7.index(\"hubli\")\n",
        "print(y)\n",
        "x=tuple7.count(\"hubli\")\n",
        "print(x)"
      ],
      "metadata": {
        "colab": {
          "base_uri": "https://localhost:8080/"
        },
        "id": "9xsYeAqYJ9qj",
        "outputId": "f3f07cb4-729a-4064-f0f3-2ca01ad091e8"
      },
      "execution_count": null,
      "outputs": [
        {
          "output_type": "stream",
          "name": "stdout",
          "text": [
            "0\n",
            "8\n"
          ]
        }
      ]
    },
    {
      "cell_type": "markdown",
      "source": [
        "**TypeCasting**"
      ],
      "metadata": {
        "id": "NJscvWq6LZd5"
      }
    },
    {
      "cell_type": "code",
      "source": [
        "x=(\"hubli\",\"belgaum\",\"blore\")\n",
        "print(type(x))\n",
        "y=list(x)\n",
        "y[2]=\"mumbai\"\n",
        "x=tuple(y)\n",
        "print(x)"
      ],
      "metadata": {
        "colab": {
          "base_uri": "https://localhost:8080/"
        },
        "id": "Ngmbxl0mKkS4",
        "outputId": "f3bc748c-9768-4a7f-8481-e852852aae89"
      },
      "execution_count": null,
      "outputs": [
        {
          "output_type": "stream",
          "name": "stdout",
          "text": [
            "<class 'tuple'>\n",
            "('hubli', 'belgaum', 'mumbai')\n"
          ]
        }
      ]
    },
    {
      "cell_type": "markdown",
      "source": [
        "**Sets**"
      ],
      "metadata": {
        "id": "L1tULj8N26-l"
      }
    },
    {
      "cell_type": "code",
      "source": [
        "set1={\"red\",\"blue\",\"black\"}\n",
        "print(set1)"
      ],
      "metadata": {
        "colab": {
          "base_uri": "https://localhost:8080/"
        },
        "id": "Dd0gHnGqLomf",
        "outputId": "cee82e45-8dcf-415b-caf6-7ca5b419eff3"
      },
      "execution_count": null,
      "outputs": [
        {
          "output_type": "stream",
          "name": "stdout",
          "text": [
            "{'black', 'blue', 'red'}\n"
          ]
        }
      ]
    },
    {
      "cell_type": "code",
      "source": [
        "set1.add(\"orange\")\n",
        "print(set1)"
      ],
      "metadata": {
        "colab": {
          "base_uri": "https://localhost:8080/"
        },
        "id": "DMSBq8Tx3E31",
        "outputId": "842a956d-b1b2-4728-bb8e-e6b228adf9da"
      },
      "execution_count": null,
      "outputs": [
        {
          "output_type": "stream",
          "name": "stdout",
          "text": [
            "{'black', 'blue', 'red', 'orange'}\n"
          ]
        }
      ]
    },
    {
      "cell_type": "code",
      "source": [
        "set2={\"ball\",\"bat\",\"red\"}\n",
        "set1.update(set2)\n",
        "print(set1)"
      ],
      "metadata": {
        "colab": {
          "base_uri": "https://localhost:8080/"
        },
        "id": "s13MZrLB3Mo1",
        "outputId": "6fe863ee-1a41-4834-fc08-78f4c98b675f"
      },
      "execution_count": null,
      "outputs": [
        {
          "output_type": "stream",
          "name": "stdout",
          "text": [
            "{'black', 'blue', 'red', 'orange', 'bat', 'ball'}\n"
          ]
        }
      ]
    },
    {
      "cell_type": "markdown",
      "source": [
        "**Use of dictionaries data types**"
      ],
      "metadata": {
        "id": "rwKCRr4p3pTJ"
      }
    },
    {
      "cell_type": "code",
      "source": [
        "Dict1={\"name\":\"jyoti\",\n",
        "       \"age\":\"19\",\n",
        "       \"gender\":\"female\",\"year\":\"2023\",\"year\":\"2019\"}\n",
        "print(Dict1)\n",
        "Dict2=dict(fruit=\"banana\",desert=\"ice\")\n",
        "print(Dict2)"
      ],
      "metadata": {
        "colab": {
          "base_uri": "https://localhost:8080/"
        },
        "id": "T85wWrm93ZmN",
        "outputId": "07abb30f-712e-4524-df5b-3d6de45618e2"
      },
      "execution_count": null,
      "outputs": [
        {
          "output_type": "stream",
          "name": "stdout",
          "text": [
            "{'name': 'jyoti', 'age': '19', 'gender': 'female', 'year': '2019'}\n",
            "{'fruit': 'banana', 'desert': 'ice'}\n"
          ]
        }
      ]
    }
  ]
}