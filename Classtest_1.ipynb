{
  "nbformat": 4,
  "nbformat_minor": 0,
  "metadata": {
    "colab": {
      "provenance": [],
      "authorship_tag": "ABX9TyPFZ0hE8ZgCJEpwJGo1k+Oh",
      "include_colab_link": true
    },
    "kernelspec": {
      "name": "python3",
      "display_name": "Python 3"
    },
    "language_info": {
      "name": "python"
    }
  },
  "cells": [
    {
      "cell_type": "markdown",
      "metadata": {
        "id": "view-in-github",
        "colab_type": "text"
      },
      "source": [
        "<a href=\"https://colab.research.google.com/github/jyotisatihal/Python_for_ML/blob/main/Classtest_1.ipynb\" target=\"_parent\"><img src=\"https://colab.research.google.com/assets/colab-badge.svg\" alt=\"Open In Colab\"/></a>"
      ]
    },
    {
      "cell_type": "code",
      "execution_count": null,
      "metadata": {
        "id": "CWk_q9ATinqE",
        "colab": {
          "base_uri": "https://localhost:8080/"
        },
        "outputId": "a49b4b02-9e27-4245-bfa1-630c354f63d0"
      },
      "outputs": [
        {
          "output_type": "stream",
          "name": "stdout",
          "text": [
            "Enter a word: gadag\n",
            " is a palindrome.\n"
          ]
        }
      ],
      "source": [
        "#5 CHECK IF PALINDROME\n",
        "\n",
        "def is_palindrome(word):\n",
        "    return word == word[::-1]\n",
        "\n",
        "user_input = input(\"Enter a word: \")\n",
        "\n",
        "if is_palindrome(user_input):\n",
        "    #print(f\"{user_input} is a palindrome.\")\n",
        "     print(\" is a palindrome.\")\n",
        "else:\n",
        "    #print(f\"{user_input} is not a palindrome.\")\n",
        "    print(\"not a palindrome.\")\n",
        "\n"
      ]
    },
    {
      "cell_type": "code",
      "source": [
        "#7 ODD_LIST AND EVEN_LIST\n",
        "\n",
        "odd_list = []\n",
        "even_list = []\n",
        "\n",
        "for _ in range(10):\n",
        "    num = int(input(\"Enter a number: \"))\n",
        "    if num % 2 == 0:\n",
        "        even_list.append(num)\n",
        "    else:\n",
        "        odd_list.append(num)\n",
        "\n",
        "print(\"Odd numbers:\", odd_list)\n",
        "print(\"Even numbers:\", even_list)\n",
        "\n"
      ],
      "metadata": {
        "colab": {
          "base_uri": "https://localhost:8080/"
        },
        "id": "3541RQjRkITt",
        "outputId": "a6e6b703-b235-4a66-edc8-7c664765145d"
      },
      "execution_count": null,
      "outputs": [
        {
          "output_type": "stream",
          "name": "stdout",
          "text": [
            "Enter a number: 5\n",
            "Enter a number: 3\n",
            "Enter a number: 1\n",
            "Enter a number: 2\n",
            "Enter a number: 4\n",
            "Enter a number: 6\n",
            "Enter a number: 7\n",
            "Enter a number: 8\n",
            "Enter a number: 9\n",
            "Enter a number: 3\n",
            "Odd numbers: [5, 3, 1, 7, 9, 3]\n",
            "Even numbers: [2, 4, 6, 8]\n"
          ]
        }
      ]
    },
    {
      "cell_type": "code",
      "source": [
        "#8 NO.OF ROWS=4\n",
        "\n",
        "\n",
        "num_rows = int(input(\"Enter the no. of rows: \"))\n",
        "\n",
        "for i in range(1, num_rows + 1):\n",
        "    print(\"* \" * i)\n"
      ],
      "metadata": {
        "colab": {
          "base_uri": "https://localhost:8080/"
        },
        "id": "81DRpbyHm98J",
        "outputId": "e189b887-86f8-4086-eca3-b0fda5d976e4"
      },
      "execution_count": null,
      "outputs": [
        {
          "output_type": "stream",
          "name": "stdout",
          "text": [
            "Enter the no. of rows: 4\n",
            "* \n",
            "* * \n",
            "* * * \n",
            "* * * * \n"
          ]
        }
      ]
    },
    {
      "cell_type": "code",
      "source": [
        "#6 CHECK PRIME\n",
        "\n",
        "\n",
        "val=int(input(\"enter a num = \"))\n",
        "flag=0\n",
        "if(((val%val)==0) and ((val%1)==0) and (((val%2)==0) or ((val%3)==0) or (val%5)==0)):\n",
        "  flag=1\n",
        "  if(val%3==0):\n",
        "    print(\"divisible by 3\")\n",
        "  elif(val%7==0):\n",
        "    print(\"divisible by 7\")\n",
        "  elif(val%9==0):\n",
        "    print(\"divisible by 9\")\n",
        "  elif(val%11==0):\n",
        "    print(\"divisible by 11\")\n",
        "  else:\n",
        "    print(\"divisible by other number\")\n",
        "else:\n",
        "  flag=0\n",
        "\n",
        "if(flag==1):\n",
        "  print(\"not a prime\")\n",
        "else:\n",
        "  print(\"prime\")"
      ],
      "metadata": {
        "id": "46okHIxAoax4"
      },
      "execution_count": null,
      "outputs": []
    },
    {
      "cell_type": "code",
      "source": [],
      "metadata": {
        "id": "RKIXNW40rPS_"
      },
      "execution_count": null,
      "outputs": []
    },
    {
      "cell_type": "code",
      "source": [],
      "metadata": {
        "id": "1aZgWiant2KC"
      },
      "execution_count": null,
      "outputs": []
    }
  ]
}