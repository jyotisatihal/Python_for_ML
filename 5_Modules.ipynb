{
  "nbformat": 4,
  "nbformat_minor": 0,
  "metadata": {
    "colab": {
      "provenance": [],
      "authorship_tag": "ABX9TyPYbQPAQ39e2J7OFBQr4h2r",
      "include_colab_link": true
    },
    "kernelspec": {
      "name": "python3",
      "display_name": "Python 3"
    },
    "language_info": {
      "name": "python"
    }
  },
  "cells": [
    {
      "cell_type": "markdown",
      "metadata": {
        "id": "view-in-github",
        "colab_type": "text"
      },
      "source": [
        "<a href=\"https://colab.research.google.com/github/jyotisatihal/Python_for_ML/blob/main/5_Modules.ipynb\" target=\"_parent\"><img src=\"https://colab.research.google.com/assets/colab-badge.svg\" alt=\"Open In Colab\"/></a>"
      ]
    },
    {
      "cell_type": "code",
      "execution_count": null,
      "metadata": {
        "colab": {
          "base_uri": "https://localhost:8080/"
        },
        "id": "n4cIKtUT_5VF",
        "outputId": "16ee0bfb-9e6a-4b27-ac2b-27bd0716becb"
      },
      "outputs": [
        {
          "output_type": "stream",
          "name": "stdout",
          "text": [
            "4\n",
            "0.4840976198864213\n"
          ]
        }
      ],
      "source": [
        "#random module\n",
        "\n",
        "import random\n",
        "x=random.randint(1,9)\n",
        "print(x)\n",
        "\n",
        "a=random.random()#for float value\n",
        "print(a)"
      ]
    },
    {
      "cell_type": "code",
      "source": [
        "#lottery game\n",
        "\n",
        "import random\n",
        "count=0\n",
        "y=0\n",
        "for z in range(1,9):\n",
        " computer=random.randint(1,9)\n",
        " user=int(input(\"enter your number bw 1 to 9  \"))\n",
        " print(computer)\n",
        " print(user)\n",
        "\n",
        " if computer>user:\n",
        "  print(\"computer won\")\n",
        "  count=count+1\n",
        " elif computer == user:\n",
        "  print(\"tie\")\n",
        " else:\n",
        "  print(\"you won\")\n",
        "  y=y+1\n",
        "\n",
        "if count>y:\n",
        "  print(\"computer won the game\")\n",
        "elif count==y:\n",
        "  print(\"tie\")\n",
        "else:\n",
        "  print(\"you won the game\")"
      ],
      "metadata": {
        "colab": {
          "base_uri": "https://localhost:8080/"
        },
        "id": "8AyftcNDAA1J",
        "outputId": "92571151-4a7f-4a2f-e9f6-c40790895784"
      },
      "execution_count": null,
      "outputs": [
        {
          "output_type": "stream",
          "name": "stdout",
          "text": [
            "enter your number bw 1 to 9  5\n",
            "1\n",
            "5\n",
            "you won\n",
            "enter your number bw 1 to 9  3\n",
            "9\n",
            "3\n",
            "computer won\n",
            "enter your number bw 1 to 9  2\n",
            "2\n",
            "2\n",
            "tie\n",
            "enter your number bw 1 to 9  6\n",
            "9\n",
            "6\n",
            "computer won\n",
            "enter your number bw 1 to 9  5\n",
            "7\n",
            "5\n",
            "computer won\n",
            "enter your number bw 1 to 9  8\n",
            "4\n",
            "8\n",
            "you won\n",
            "enter your number bw 1 to 9  4\n",
            "4\n",
            "4\n",
            "tie\n",
            "enter your number bw 1 to 9  7\n",
            "7\n",
            "7\n",
            "tie\n",
            "computer won the game\n"
          ]
        }
      ]
    },
    {
      "cell_type": "code",
      "source": [
        "#rack paper scissors\n",
        "\n",
        "import random\n",
        "gamelist=[\"rock\",\"paper\",\"scissors\"]\n",
        "comp=random.choice(gamelist)\n",
        "user=input(\"enter your choice\")\n",
        "print(comp)\n",
        "print(user)\n",
        "\n",
        "if(comp==\"rock\" and user==\"paper\"):\n",
        "  print(\"user won\")\n",
        "elif(comp==\"scissors\" and user==\"paper\"):\n",
        "  print(\"comp won\")\n",
        "elif(comp==\"rock\" and user==\"scissors\"):\n",
        "  print(\"comp won\")\n",
        "else:\n",
        "  print(\"user won\")"
      ],
      "metadata": {
        "colab": {
          "base_uri": "https://localhost:8080/"
        },
        "id": "e9rF32hDAVkZ",
        "outputId": "1186e564-a4fa-4507-a578-ad2b3fe42c50"
      },
      "execution_count": null,
      "outputs": [
        {
          "output_type": "stream",
          "name": "stdout",
          "text": [
            "enter your choicepaper\n",
            "rock\n",
            "paper\n",
            "user won\n"
          ]
        }
      ]
    },
    {
      "cell_type": "code",
      "source": [],
      "metadata": {
        "id": "B9zYkbUfAxN8"
      },
      "execution_count": null,
      "outputs": []
    }
  ]
}