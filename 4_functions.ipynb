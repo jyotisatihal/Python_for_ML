{
  "nbformat": 4,
  "nbformat_minor": 0,
  "metadata": {
    "colab": {
      "provenance": [],
      "authorship_tag": "ABX9TyNC0SceHtcRkEazmiryoy6Z",
      "include_colab_link": true
    },
    "kernelspec": {
      "name": "python3",
      "display_name": "Python 3"
    },
    "language_info": {
      "name": "python"
    }
  },
  "cells": [
    {
      "cell_type": "markdown",
      "metadata": {
        "id": "view-in-github",
        "colab_type": "text"
      },
      "source": [
        "<a href=\"https://colab.research.google.com/github/jyotisatihal/Python_for_ML/blob/main/4_functions.ipynb\" target=\"_parent\"><img src=\"https://colab.research.google.com/assets/colab-badge.svg\" alt=\"Open In Colab\"/></a>"
      ]
    },
    {
      "cell_type": "code",
      "execution_count": null,
      "metadata": {
        "colab": {
          "base_uri": "https://localhost:8080/"
        },
        "id": "ItufqeZlATnG",
        "outputId": "f732d80d-5364-4936-81b0-7dc4e60fd332"
      },
      "outputs": [
        {
          "output_type": "stream",
          "name": "stdout",
          "text": [
            "ready to bake\n"
          ]
        }
      ],
      "source": [
        "def cake_baker():\n",
        "  print(\"ready to bake\")\n",
        "cake_baker()"
      ]
    },
    {
      "cell_type": "code",
      "source": [
        "def cake_baker(p,f,s):\n",
        "  print(\"no of pieces=\",p)\n",
        "  print(\"flavour is=\",f)\n",
        "  print(\"size=\",s)\n",
        "cake_baker(\"3\",\"choco\",\"1kg\")\n",
        "cake_baker(\"11\",\"sfea\",\"fwe\")"
      ],
      "metadata": {
        "colab": {
          "base_uri": "https://localhost:8080/"
        },
        "id": "UP94MYuoAeQ1",
        "outputId": "70bdbc65-c734-4472-ca16-6c52d92256e5"
      },
      "execution_count": null,
      "outputs": [
        {
          "output_type": "stream",
          "name": "stdout",
          "text": [
            "no of pieces= 3\n",
            "flavour is= choco\n",
            "size= 1kg\n",
            "no of pieces= 11\n",
            "flavour is= sfea\n",
            "size= fwe\n"
          ]
        }
      ]
    },
    {
      "cell_type": "code",
      "source": [
        "#args\n",
        "\n",
        "def add(*args):\n",
        "  sum=0\n",
        "  for i in args:\n",
        "    sum+=i\n",
        "  return sum\n",
        "print(add(1,2,3))\n"
      ],
      "metadata": {
        "colab": {
          "base_uri": "https://localhost:8080/"
        },
        "id": "dJTyb8hYBCM2",
        "outputId": "bda070f4-c9c4-46d3-9c89-81a8e7f2842b"
      },
      "execution_count": null,
      "outputs": [
        {
          "output_type": "stream",
          "name": "stdout",
          "text": [
            "6\n"
          ]
        }
      ]
    },
    {
      "cell_type": "code",
      "source": [
        "#kwargs\n",
        "\n",
        "def greet(**kwargs):\n",
        "  print(\"hello\",end=\" \")\n",
        "  for key,value in kwargs.items():\n",
        "   print(value,end=\" \")\n",
        "greet(name=\"jyoti\",usn=\"01fesdvvds\",branch=\"ece\")"
      ],
      "metadata": {
        "id": "HjnBRVleH42M",
        "colab": {
          "base_uri": "https://localhost:8080/"
        },
        "outputId": "e75eb1a9-b7dd-47ab-f7d6-b33555c18a16"
      },
      "execution_count": null,
      "outputs": [
        {
          "output_type": "stream",
          "name": "stdout",
          "text": [
            "hello jyoti 01fesdvvds ece "
          ]
        }
      ]
    }
  ]
}